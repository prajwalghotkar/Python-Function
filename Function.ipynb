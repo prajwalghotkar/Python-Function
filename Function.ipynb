{
 "cells": [
  {
   "cell_type": "code",
   "execution_count": 3,
   "metadata": {},
   "outputs": [
    {
     "name": "stdout",
     "output_type": "stream",
     "text": [
      "20000\n",
      "20000\n",
      "20000\n"
     ]
    }
   ],
   "source": [
    "def Sales():\n",
    "    total_sale=200*100\n",
    "    print(total_sale)\n",
    "Sales()\n",
    "Sales()\n",
    "Sales()\n",
    "\n",
    "    "
   ]
  },
  {
   "cell_type": "code",
   "execution_count": 6,
   "metadata": {},
   "outputs": [
    {
     "name": "stdout",
     "output_type": "stream",
     "text": [
      "1000\n",
      "2000\n",
      "5000\n"
     ]
    }
   ],
   "source": [
    "def sales(Qty):\n",
    "    Total_sale=Qty*100\n",
    "    print(Total_sale)\n",
    "sales(10)\n",
    "sales(20) \n",
    "sales(50)   "
   ]
  },
  {
   "cell_type": "code",
   "execution_count": 9,
   "metadata": {},
   "outputs": [
    {
     "name": "stdout",
     "output_type": "stream",
     "text": [
      "5000\n",
      "1000\n",
      "1000\n",
      "2000\n"
     ]
    }
   ],
   "source": [
    "def sales(Qty=10):\n",
    "    Total_sale=Qty*100\n",
    "    print(Total_sale)\n",
    "sales(50)\n",
    "sales()\n",
    "sales()\n",
    "sales(20)\n",
    "    \n",
    "    "
   ]
  },
  {
   "cell_type": "code",
   "execution_count": 2,
   "metadata": {},
   "outputs": [
    {
     "name": "stdout",
     "output_type": "stream",
     "text": [
      "20000\n"
     ]
    }
   ],
   "source": [
    "def Sales():\n",
    "    Total_sale=200*100\n",
    "    print(Total_sale)\n",
    "Sales()    "
   ]
  },
  {
   "cell_type": "code",
   "execution_count": 4,
   "metadata": {},
   "outputs": [
    {
     "name": "stdout",
     "output_type": "stream",
     "text": [
      "5000\n",
      "2000\n"
     ]
    }
   ],
   "source": [
    "def Sales(Quly):\n",
    "    Total_sale=Quly*100\n",
    "    print(Total_sale)\n",
    "Sales(50)\n",
    "Sales(20)    "
   ]
  },
  {
   "cell_type": "code",
   "execution_count": 12,
   "metadata": {},
   "outputs": [
    {
     "name": "stdout",
     "output_type": "stream",
     "text": [
      "1000\n",
      "5000\n"
     ]
    }
   ],
   "source": [
    "def sales(Quly=10):\n",
    "    Total_sale=Quly*100\n",
    "    print(Total_sale)\n",
    "sales()\n",
    "sales(50)\n",
    "    "
   ]
  },
  {
   "cell_type": "code",
   "execution_count": 13,
   "metadata": {},
   "outputs": [
    {
     "name": "stdout",
     "output_type": "stream",
     "text": [
      "5000\n"
     ]
    }
   ],
   "source": [
    "def Sales(Quly,price):\n",
    "    Total_sales=Quly*price\n",
    "    print(Total_sales)\n",
    "Sales(50,100)  \n",
    "  \n",
    "    \n",
    "    "
   ]
  },
  {
   "cell_type": "code",
   "execution_count": 16,
   "metadata": {},
   "outputs": [
    {
     "name": "stdout",
     "output_type": "stream",
     "text": [
      "5000\n",
      "600\n"
     ]
    }
   ],
   "source": [
    "def Sales(Quty=50,Price=100):\n",
    "    Total_sales=(Quty*Price)\n",
    "    print(Total_sales)\n",
    "Sales() \n",
    "Sales(20,30)   "
   ]
  },
  {
   "cell_type": "code",
   "execution_count": 20,
   "metadata": {},
   "outputs": [
    {
     "name": "stdout",
     "output_type": "stream",
     "text": [
      "5000\n",
      "40000\n"
     ]
    }
   ],
   "source": [
    "def sales(prc=100,Quty=50):\n",
    "    Total=prc*Quty\n",
    "    return Total\n",
    "x=sales()\n",
    "y=sales(200,200)\n",
    "print(x)\n",
    "print(y)"
   ]
  },
  {
   "cell_type": "code",
   "execution_count": 23,
   "metadata": {},
   "outputs": [
    {
     "name": "stdout",
     "output_type": "stream",
     "text": [
      "(100, 0.1)\n",
      "(19100, 0.955)\n"
     ]
    }
   ],
   "source": [
    "def financial(revenue,expenses):\n",
    "    \"This function is used to calculate profit and profit ratio\"\n",
    "    profit = revenue - expenses\n",
    "    profit_ratio = profit/revenue\n",
    "    new_fanacials=(profit,profit_ratio) \n",
    "    return new_fanacials\n",
    "x=financial(1000,900)   \n",
    "y=financial(20000,900)\n",
    "print(x)\n",
    "print(y)"
   ]
  },
  {
   "cell_type": "code",
   "execution_count": 26,
   "metadata": {},
   "outputs": [
    {
     "name": "stdout",
     "output_type": "stream",
     "text": [
      "profit 100\n",
      "profit_rato 0.1\n"
     ]
    }
   ],
   "source": [
    "def financials(revenue,expenses):\n",
    "    profit=revenue-expenses\n",
    "    profit_ratio=profit/revenue\n",
    "    new_financials=(profit,profit_ratio)\n",
    "    return new_financials\n",
    "x=financials(1000,900)\n",
    "print(\"profit\",x[0])\n",
    "print(\"profit_rato\",x[1])"
   ]
  },
  {
   "cell_type": "code",
   "execution_count": 29,
   "metadata": {},
   "outputs": [
    {
     "name": "stdout",
     "output_type": "stream",
     "text": [
      "59.0\n"
     ]
    }
   ],
   "source": [
    "#degree to fahrenheit\n",
    "def convertto(deg):\n",
    "    F=(deg*9/5)+32\n",
    "    return(F)\n",
    "temp=convertto(15)\n",
    "print(temp)\n",
    "    "
   ]
  },
  {
   "cell_type": "code",
   "execution_count": 30,
   "metadata": {},
   "outputs": [
    {
     "name": "stdout",
     "output_type": "stream",
     "text": [
      "75.2\n"
     ]
    }
   ],
   "source": [
    "def convertto(deg):\n",
    "    F=(deg*9/5)+32\n",
    "    return F\n",
    "temp=24\n",
    "temp=convertto(temp)\n",
    "print(temp)\n",
    "    \n",
    "    "
   ]
  },
  {
   "cell_type": "code",
   "execution_count": 5,
   "metadata": {},
   "outputs": [
    {
     "name": "stdout",
     "output_type": "stream",
     "text": [
      "profit: 100\n",
      "profit_rato: 0.1\n"
     ]
    }
   ],
   "source": [
    "def financials(revenue,expenses):\n",
    "      profit=revenue-expenses\n",
    "      profit_ratio=profit/revenue\n",
    "      new_financials=(profit,profit_ratio)\n",
    "      return (new_financials)\n",
    "x=financials(1000,900)\n",
    "print(\"profit:\",x[0])\n",
    "print(\"profit_rato:\",x[1])\n",
    "\n",
    "  "
   ]
  },
  {
   "cell_type": "code",
   "execution_count": 6,
   "metadata": {},
   "outputs": [
    {
     "name": "stdout",
     "output_type": "stream",
     "text": [
      "degree into fahrenheit: 102.2\n"
     ]
    }
   ],
   "source": [
    "def canvertto(deg):\n",
    "    F=deg*9/5+32\n",
    "    return F\n",
    "deg=39\n",
    "x=canvertto(deg)\n",
    "print(\"degree into fahrenheit:\",x)\n",
    "    \n",
    "    "
   ]
  },
  {
   "cell_type": "code",
   "execution_count": 8,
   "metadata": {},
   "outputs": [
    {
     "name": "stdout",
     "output_type": "stream",
     "text": [
      "profit 900\n",
      "profit_ratio 0.47368421052631576\n"
     ]
    }
   ],
   "source": [
    "def financials(revenue,expenses):\n",
    "    profit=revenue-expenses\n",
    "    profit_ratio=profit/revenue\n",
    "    new_financial=(profit,profit_ratio)\n",
    "    return new_financial\n",
    "x=financials(1900,1000)\n",
    "print(\"profit\",x[0])\n",
    "print(\"profit_ratio\",x[1])    "
   ]
  },
  {
   "cell_type": "code",
   "execution_count": null,
   "metadata": {},
   "outputs": [],
   "source": [
    "list=[]\n",
    "tuple()\n",
    "dictonary={'key':'value'}\n",
    "set={}\n",
    "\n"
   ]
  },
  {
   "cell_type": "code",
   "execution_count": null,
   "metadata": {},
   "outputs": [],
   "source": []
  },
  {
   "cell_type": "code",
   "execution_count": null,
   "metadata": {},
   "outputs": [],
   "source": []
  },
  {
   "cell_type": "code",
   "execution_count": null,
   "metadata": {},
   "outputs": [],
   "source": []
  },
  {
   "cell_type": "code",
   "execution_count": null,
   "metadata": {},
   "outputs": [],
   "source": []
  },
  {
   "cell_type": "code",
   "execution_count": null,
   "metadata": {},
   "outputs": [],
   "source": []
  },
  {
   "cell_type": "code",
   "execution_count": null,
   "metadata": {},
   "outputs": [],
   "source": []
  },
  {
   "cell_type": "code",
   "execution_count": null,
   "metadata": {},
   "outputs": [],
   "source": []
  },
  {
   "cell_type": "code",
   "execution_count": null,
   "metadata": {},
   "outputs": [],
   "source": []
  },
  {
   "cell_type": "code",
   "execution_count": null,
   "metadata": {},
   "outputs": [],
   "source": []
  },
  {
   "cell_type": "code",
   "execution_count": null,
   "metadata": {},
   "outputs": [],
   "source": []
  },
  {
   "cell_type": "code",
   "execution_count": null,
   "metadata": {},
   "outputs": [],
   "source": []
  }
 ],
 "metadata": {
  "kernelspec": {
   "display_name": "base",
   "language": "python",
   "name": "python3"
  },
  "language_info": {
   "codemirror_mode": {
    "name": "ipython",
    "version": 3
   },
   "file_extension": ".py",
   "mimetype": "text/x-python",
   "name": "python",
   "nbconvert_exporter": "python",
   "pygments_lexer": "ipython3",
   "version": "3.11.4"
  }
 },
 "nbformat": 4,
 "nbformat_minor": 2
}
